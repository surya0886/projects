{
  "nbformat": 4,
  "nbformat_minor": 0,
  "metadata": {
    "colab": {
      "provenance": []
    },
    "kernelspec": {
      "name": "python3",
      "display_name": "Python 3"
    },
    "language_info": {
      "name": "python"
    }
  },
  "cells": [
    {
      "cell_type": "markdown",
      "source": [
        "# Simple Calculator"
      ],
      "metadata": {
        "id": "DDFkjr-OSe8D"
      }
    },
    {
      "cell_type": "code",
      "execution_count": null,
      "metadata": {
        "colab": {
          "base_uri": "https://localhost:8080/"
        },
        "id": "pS4xRvGnSQsq",
        "outputId": "a9f5c45c-dda2-455f-f652-e29ddd40ddf3"
      },
      "outputs": [
        {
          "metadata": {
            "tags": null
          },
          "name": "stdout",
          "output_type": "stream",
          "text": [
            "Simple Calculator\n",
            "Choose operation:\n",
            "1. Add\n",
            "2. Subtract\n",
            "3. Multiply\n",
            "4. Divide\n",
            "The result is: 5.0\n"
          ]
        }
      ],
      "source": [
        "def add(x, y):\n",
        "    return x + y\n",
        "\n",
        "def subtract(x, y):\n",
        "    return x - y\n",
        "\n",
        "def multiply(x, y):\n",
        "    return x * y\n",
        "\n",
        "def divide(x, y):\n",
        "    if y != 0:\n",
        "       return x/y\n",
        "    else:\n",
        "        return \"Error! Division by Zero.\"\n",
        "\n",
        "def calculator():\n",
        "    print(\"Simple Calculator\")\n",
        "    print(\"Choose operation:\")\n",
        "    print(\"1. Add\")\n",
        "    print(\"2. Subtract\")\n",
        "    print(\"3. Multiply\")\n",
        "    print(\"4. Divide\")\n",
        "\n",
        "    while True:\n",
        "        choice = input(\"Enter choice (1/2/3/4): \")\n",
        "\n",
        "        if choice in ['1', '2', '3', '4']:\n",
        "           num1 = float(input(\"Enter first number:\"))\n",
        "           num2 = float(input(\"Enter second number:\"))\n",
        "\n",
        "           if choice == '1':\n",
        "               print(f\"The result is: {add(num1 , num2)}\")\n",
        "           elif choice == '2':\n",
        "               print(f\"The result is: {subtract(num1 , num2)}\")\n",
        "           elif choice == '3':\n",
        "               print(f\"The result is: {multiply(num1 , num2)}\")\n",
        "           elif choice == '4':\n",
        "               print(f\"The result is: {divide(num1 , num2)}\")\n",
        "\n",
        "           next_calculation = input(\"Do you want to perform another calculation? (yes/no): \")\n",
        "           if next_calculation.lower() != 'yes':\n",
        "               break\n",
        "\n",
        "        else:\n",
        "          print(\"Invalid Input\")\n",
        "\n",
        "calculator()"
      ]
    },
    {
      "cell_type": "code",
      "source": [
        "33"
      ],
      "metadata": {
        "colab": {
          "base_uri": "https://localhost:8080/"
        },
        "id": "eIMoxz5NX0-k",
        "outputId": "45a49ac5-9201-47cf-ca58-5c29a16a8a88"
      },
      "execution_count": null,
      "outputs": [
        {
          "output_type": "execute_result",
          "data": {
            "text/plain": [
              "33"
            ]
          },
          "metadata": {},
          "execution_count": 11
        }
      ]
    },
    {
      "cell_type": "code",
      "source": [],
      "metadata": {
        "id": "OrZZJs7VafKf"
      },
      "execution_count": null,
      "outputs": []
    }
  ]
}